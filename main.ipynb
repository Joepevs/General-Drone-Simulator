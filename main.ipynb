{
 "cells": [
  {
   "cell_type": "markdown",
   "metadata": {},
   "source": [
    "# Import dependencies"
   ]
  },
  {
   "cell_type": "code",
   "execution_count": null,
   "metadata": {},
   "outputs": [],
   "source": [
    "%matplotlib notebook\n",
    "%matplotlib inline"
   ]
  },
  {
   "cell_type": "code",
   "execution_count": 1,
   "metadata": {},
   "outputs": [
    {
     "name": "stdout",
     "output_type": "stream",
     "text": [
      "Using device: cpu\n",
      "Logging to training/logs\n"
     ]
    }
   ],
   "source": [
    "import os\n",
    "import datetime \n",
    "\n",
    "import torch\n",
    "from stable_baselines3 import A2C, DQN, HER, PPO\n",
    "from stable_baselines3.common.vec_env import DummyVecEnv\n",
    "from stable_baselines3.common.evaluation import evaluate_policy\n",
    "from stable_baselines3.common.logger import configure\n",
    "from stable_baselines3.common.env_checker import check_env\n",
    "from stable_baselines3.common.callbacks import BaseCallback, EvalCallback, StopTrainingOnRewardThreshold\n",
    "\n",
    "from src.drone_env import DroneEnv\n",
    "from src.utils import read_config\n",
    "from src.monitor import Monitor\n",
    "from src.logger_callback import LoggerCallback\n",
    "from src.human import Human\n",
    "\n",
    "device = torch.device(\"cuda\" if torch.cuda.is_available() else \"cpu\")\n",
    "print(\"Using device: {}\".format(device))\n",
    "\n",
    "# Read config and set up tensorboard logging\n",
    "config = read_config(\"config.yaml\")\n",
    "save_path = os.path.join('training', 'saved_models')\n",
    "log_path = os.path.join('training', 'logs')\n",
    "logger = configure(log_path, [\"stdout\", \"tensorboard\"])"
   ]
  },
  {
   "cell_type": "markdown",
   "metadata": {},
   "source": [
    "# Show the environment (for debugging)"
   ]
  },
  {
   "cell_type": "code",
   "execution_count": 2,
   "metadata": {},
   "outputs": [
    {
     "name": "stdout",
     "output_type": "stream",
     "text": [
      "Episode:1 Score:-162.88\n",
      "Episode:2 Score:-174.9\n",
      "Episode:3 Score:-168.57\n",
      "Episode:4 Score:-147.49\n",
      "Episode:5 Score:-162.36\n"
     ]
    }
   ],
   "source": [
    "env = DroneEnv(config, render_mode=\"human\", max_episode_steps=1000)\n",
    "episodes = 5\n",
    "for episode in range(1, episodes+1):\n",
    "    state = env.reset() # Get initial set of observations\n",
    "    done = False\n",
    "    score = 0 \n",
    "    \n",
    "    while not done:\n",
    "        env.render()\n",
    "        action = env.action_space.sample() # Take a random action from the action space\n",
    "        n_state, reward, done, _, info =  env.step(action) # Get new set of observations\n",
    "        score+=reward\n",
    "    print('Episode:{} Score:{}'.format(episode, round(score,2)))\n",
    "env.close()"
   ]
  },
  {
   "cell_type": "markdown",
   "metadata": {},
   "source": [
    "# Manual drone control"
   ]
  },
  {
   "cell_type": "code",
   "execution_count": null,
   "metadata": {},
   "outputs": [],
   "source": [
    "env = DroneEnv(config, render_mode=\"human\", max_episode_steps=1000)\n",
    "human = Human(len(config[\"drone\"][\"motors\"]))\n",
    "episodes = 5\n",
    "for episode in range(1, episodes+1):\n",
    "    obs, _ = env.reset()\n",
    "    done = False\n",
    "    score = 0 \n",
    "    \n",
    "    while not done:\n",
    "        env.render()\n",
    "        action = human.get_action()\n",
    "        obs, reward, done, _, info = env.step(action) # Get new set of observations\n",
    "        score+=reward\n",
    "    print('Episode:{} Score:{}'.format(episode, round(score,2)))\n",
    "env.close()"
   ]
  },
  {
   "cell_type": "markdown",
   "metadata": {},
   "source": [
    "# Train the model"
   ]
  },
  {
   "cell_type": "code",
   "execution_count": null,
   "metadata": {},
   "outputs": [],
   "source": [
    "%matplotlib notebook\n",
    "%matplotlib inline\n",
    "\n",
    "num_envs = 16  # Number of parallel environments\n",
    "reward_threshold = 100000  # Stop training if the mean reward is greater or equal to this value\n",
    "max_episode_steps = 1000  # Max number of steps per episode\n",
    "total_timesteps = 1000000  # Total number of training steps (ie: environment steps)\n",
    "model_type = \"PPO\"\n",
    "\n",
    "env_fns = [lambda: DroneEnv(config, max_episode_steps=1000) for _ in range(num_envs)]\n",
    "env = DummyVecEnv(env_fns)\n",
    "check_env(env.envs[0], warn=True)  # Check if the environment is valid\n",
    "\n",
    "stop_callback = StopTrainingOnRewardThreshold(reward_threshold=reward_threshold, verbose=1)\n",
    "eval_callback = EvalCallback(env, \n",
    "                             callback_on_new_best=stop_callback, \n",
    "                             eval_freq=1000, \n",
    "                             best_model_save_path=save_path, \n",
    "                             verbose=1)\n",
    "\n",
    "# Monitor handles the plotting of reward and survive time during training\n",
    "monitor = Monitor(config)\n",
    "monitor.log_data(1, 1)\n",
    "monitor.update_plot()\n",
    "logger = LoggerCallback(monitor=monitor)\n",
    "\n",
    "callbacks = [eval_callback, logger]\n",
    "\n",
    "# Create the model\n",
    "model = None\n",
    "# Switch for model type\n",
    "if model_type == \"PPO\":\n",
    "    model = PPO(\"MlpPolicy\", env, verbose=1, tensorboard_log=log_path)\n",
    "elif model_type == \"A2C\":\n",
    "    model = A2C(\"MlpPolicy\", env, verbose=1, tensorboard_log=log_path)\n",
    "elif model_type == \"DQN\":\n",
    "    model = DQN(\"MlpPolicy\", env, verbose=1, tensorboard_log=log_path)\n",
    "elif model_type == \"HER\":\n",
    "    model = HER(\"MlpPolicy\", env, verbose=1, tensorboard_log=log_path)\n",
    "else:\n",
    "    raise ValueError(\"Model type not specified\")\n",
    "\n",
    "# Do the actual learning\n",
    "model.learn(total_timesteps=total_timesteps, progress_bar=True, callback=callbacks)"
   ]
  },
  {
   "cell_type": "markdown",
   "metadata": {},
   "source": [
    "# Save the model to disk "
   ]
  },
  {
   "cell_type": "code",
   "execution_count": null,
   "metadata": {},
   "outputs": [],
   "source": [
    "# Save the with date and time\n",
    "savefilename = os.path.join(save_path, model_type + \"_\" + datetime.datetime.now().strftime(\"%Y%m%d-%H%M%S\"))\n",
    "model.save(savefilename)"
   ]
  },
  {
   "cell_type": "markdown",
   "metadata": {},
   "source": [
    "# Evaluate performance (show the agent in action)"
   ]
  },
  {
   "cell_type": "code",
   "execution_count": null,
   "metadata": {},
   "outputs": [],
   "source": [
    "#filename = \"PPO_20231209-154908\"\n",
    "filename = \"PPO_20231209-171138\"\n",
    "\n",
    "env = DroneEnv(config, render_mode=\"human\", max_episode_steps=500)\n",
    "env = DummyVecEnv([lambda: env])\n",
    "model = PPO.load(os.path.join('training', 'saved_models', filename), env=env)\n",
    "evaluate_policy(model, env, n_eval_episodes=5, render=True)\n",
    "env.close()"
   ]
  },
  {
   "cell_type": "markdown",
   "metadata": {},
   "source": [
    "# Manually show the agent in action (for debugging)"
   ]
  },
  {
   "cell_type": "code",
   "execution_count": null,
   "metadata": {},
   "outputs": [],
   "source": [
    "env = DroneEnv(config, render_mode=\"human\", max_episode_steps=1000)\n",
    "model = PPO.load(os.path.join('training', 'saved_models', 'PPO_model_0.5m'), env=env)\n",
    "episodes = 5\n",
    "for episode in range(1, episodes+1):\n",
    "    obs, _ = env.reset()\n",
    "    done = False\n",
    "    score = 0 \n",
    "    \n",
    "    while not done:\n",
    "        env.render()\n",
    "        action, _ = model.predict(obs)\n",
    "        obs, reward, done, _, info = env.step(action) # Get new set of observations\n",
    "        score+=reward\n",
    "    print('Episode:{} Score:{}'.format(episode, round(score,2)))\n",
    "env.close()"
   ]
  }
 ],
 "metadata": {
  "kernelspec": {
   "display_name": ".venv",
   "language": "python",
   "name": "python3"
  },
  "language_info": {
   "codemirror_mode": {
    "name": "ipython",
    "version": 3
   },
   "file_extension": ".py",
   "mimetype": "text/x-python",
   "name": "python",
   "nbconvert_exporter": "python",
   "pygments_lexer": "ipython3",
   "version": "3.10.11"
  }
 },
 "nbformat": 4,
 "nbformat_minor": 2
}
