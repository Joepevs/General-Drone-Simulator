{
 "cells": [
  {
   "cell_type": "code",
   "execution_count": 3,
   "metadata": {},
   "outputs": [
    {
     "name": "stdout",
     "output_type": "stream",
     "text": [
      "Logging to logs/\n"
     ]
    }
   ],
   "source": [
    "import os\n",
    "\n",
    "import numpy as np\n",
    "from stable_baselines3 import PPO, DQN\n",
    "from stable_baselines3.common.vec_env import DummyVecEnv\n",
    "from stable_baselines3.common.evaluation import evaluate_policy\n",
    "from stable_baselines3.common.logger import configure\n",
    "from stable_baselines3.common.env_checker import check_env\n",
    "\n",
    "\n",
    "from src.drone_env import DroneEnv\n",
    "from src.utils import read_config\n",
    "\n",
    "# Create log directory\n",
    "log_dir = \"logs/\"\n",
    "os.makedirs(log_dir, exist_ok=True)\n",
    "\n",
    "# Configure logger to use TensorBoard\n",
    "logger = configure(log_dir, [\"stdout\", \"tensorboard\"])\n",
    "\n",
    "config = read_config(\"config.yaml\")\n",
    "\n",
    "def print_state(state):\n",
    "    # Print 4 decimals, and a space if the number is positive for alignment\n",
    "    print(\"State: \", [f\"{x:.4f}\" if x < 0 else f\"{x:.4f} \" for x in state])"
   ]
  },
  {
   "cell_type": "code",
   "execution_count": null,
   "metadata": {},
   "outputs": [],
   "source": [
    "env = DroneEnv(config, render_mode=\"human\")\n",
    "episodes = 5\n",
    "for episode in range(1, episodes+1):\n",
    "    state = env.reset() # Get initial set of observations\n",
    "    done = False\n",
    "    score = 0 \n",
    "    \n",
    "    while not done:\n",
    "        env.render()\n",
    "        action = env.action_space.sample() # Take a random action from the action space\n",
    "        n_state, reward, done, info =  env.step(action) # Get new set of observations\n",
    "        score+=reward\n",
    "    print('Episode:{} Score:{}'.format(episode, round(score,2)))\n",
    "env.close()"
   ]
  },
  {
   "cell_type": "code",
   "execution_count": null,
   "metadata": {},
   "outputs": [],
   "source": [
    "env.close()"
   ]
  },
  {
   "cell_type": "code",
   "execution_count": 4,
   "metadata": {},
   "outputs": [],
   "source": [
    "env = DroneEnv(config)\n",
    "check_env(env, warn=True)\n",
    "env = DummyVecEnv([lambda: env])\n",
    "model = DQN('MlpPolicy', env, tensorboard_log=log_dir)"
   ]
  },
  {
   "cell_type": "code",
   "execution_count": 5,
   "metadata": {},
   "outputs": [
    {
     "data": {
      "application/vnd.jupyter.widget-view+json": {
       "model_id": "1a2e85d7795c4c92817bcd27c8da3a74",
       "version_major": 2,
       "version_minor": 0
      },
      "text/plain": [
       "Output()"
      ]
     },
     "metadata": {},
     "output_type": "display_data"
    },
    {
     "data": {
      "text/html": [
       "<pre style=\"white-space:pre;overflow-x:auto;line-height:normal;font-family:Menlo,'DejaVu Sans Mono',consolas,'Courier New',monospace\"></pre>\n"
      ],
      "text/plain": []
     },
     "metadata": {},
     "output_type": "display_data"
    },
    {
     "data": {
      "text/html": [
       "<pre style=\"white-space:pre;overflow-x:auto;line-height:normal;font-family:Menlo,'DejaVu Sans Mono',consolas,'Courier New',monospace\">\n",
       "</pre>\n"
      ],
      "text/plain": [
       "\n"
      ]
     },
     "metadata": {},
     "output_type": "display_data"
    },
    {
     "data": {
      "text/plain": [
       "<stable_baselines3.dqn.dqn.DQN at 0x7f52386edd20>"
      ]
     },
     "execution_count": 5,
     "metadata": {},
     "output_type": "execute_result"
    }
   ],
   "source": [
    "model.learn(total_timesteps=1000000, progress_bar=True)"
   ]
  },
  {
   "cell_type": "code",
   "execution_count": 6,
   "metadata": {},
   "outputs": [],
   "source": [
    "model.save(os.path.join('Training', 'Saved Models', 'DQN_model_1M'))"
   ]
  },
  {
   "cell_type": "code",
   "execution_count": 7,
   "metadata": {},
   "outputs": [
    {
     "name": "stderr",
     "output_type": "stream",
     "text": [
      "/home/tjbakker/Documents/University/Master/Module6/MachineLearning2/Project/General-Drone-Simulator/.venv/lib/python3.10/site-packages/stable_baselines3/common/evaluation.py:67: UserWarning: Evaluation environment is not wrapped with a ``Monitor`` wrapper. This may result in reporting modified episode lengths and rewards, if other wrappers happen to modify these. Consider wrapping environment first with ``Monitor`` wrapper.\n",
      "  warnings.warn(\n",
      "/home/tjbakker/Documents/University/Master/Module6/MachineLearning2/Project/General-Drone-Simulator/.venv/lib/python3.10/site-packages/stable_baselines3/common/vec_env/base_vec_env.py:243: UserWarning: You tried to call render() but no `render_mode` was passed to the env constructor.\n",
      "  warnings.warn(\"You tried to call render() but no `render_mode` was passed to the env constructor.\")\n"
     ]
    },
    {
     "ename": "KeyboardInterrupt",
     "evalue": "",
     "output_type": "error",
     "traceback": [
      "\u001b[0;31m---------------------------------------------------------------------------\u001b[0m",
      "\u001b[0;31mKeyboardInterrupt\u001b[0m                         Traceback (most recent call last)",
      "\u001b[1;32m/home/tjbakker/Documents/University/Master/Module6/MachineLearning2/Project/General-Drone-Simulator/main.ipynb Cell 7\u001b[0m line \u001b[0;36m1\n\u001b[0;32m----> <a href='vscode-notebook-cell:/home/tjbakker/Documents/University/Master/Module6/MachineLearning2/Project/General-Drone-Simulator/main.ipynb#W5sZmlsZQ%3D%3D?line=0'>1</a>\u001b[0m evaluate_policy(model, env, n_eval_episodes\u001b[39m=\u001b[39;49m\u001b[39m10\u001b[39;49m, render\u001b[39m=\u001b[39;49m\u001b[39mTrue\u001b[39;49;00m)\n",
      "File \u001b[0;32m~/Documents/University/Master/Module6/MachineLearning2/Project/General-Drone-Simulator/.venv/lib/python3.10/site-packages/stable_baselines3/common/evaluation.py:88\u001b[0m, in \u001b[0;36mevaluate_policy\u001b[0;34m(model, env, n_eval_episodes, deterministic, render, callback, reward_threshold, return_episode_rewards, warn)\u001b[0m\n\u001b[1;32m     86\u001b[0m episode_starts \u001b[39m=\u001b[39m np\u001b[39m.\u001b[39mones((env\u001b[39m.\u001b[39mnum_envs,), dtype\u001b[39m=\u001b[39m\u001b[39mbool\u001b[39m)\n\u001b[1;32m     87\u001b[0m \u001b[39mwhile\u001b[39;00m (episode_counts \u001b[39m<\u001b[39m episode_count_targets)\u001b[39m.\u001b[39many():\n\u001b[0;32m---> 88\u001b[0m     actions, states \u001b[39m=\u001b[39m model\u001b[39m.\u001b[39;49mpredict(\n\u001b[1;32m     89\u001b[0m         observations,  \u001b[39m# type: ignore[arg-type]\u001b[39;49;00m\n\u001b[1;32m     90\u001b[0m         state\u001b[39m=\u001b[39;49mstates,\n\u001b[1;32m     91\u001b[0m         episode_start\u001b[39m=\u001b[39;49mepisode_starts,\n\u001b[1;32m     92\u001b[0m         deterministic\u001b[39m=\u001b[39;49mdeterministic,\n\u001b[1;32m     93\u001b[0m     )\n\u001b[1;32m     94\u001b[0m     new_observations, rewards, dones, infos \u001b[39m=\u001b[39m env\u001b[39m.\u001b[39mstep(actions)\n\u001b[1;32m     95\u001b[0m     current_rewards \u001b[39m+\u001b[39m\u001b[39m=\u001b[39m rewards\n",
      "File \u001b[0;32m~/Documents/University/Master/Module6/MachineLearning2/Project/General-Drone-Simulator/.venv/lib/python3.10/site-packages/stable_baselines3/dqn/dqn.py:255\u001b[0m, in \u001b[0;36mDQN.predict\u001b[0;34m(self, observation, state, episode_start, deterministic)\u001b[0m\n\u001b[1;32m    253\u001b[0m         action \u001b[39m=\u001b[39m np\u001b[39m.\u001b[39marray(\u001b[39mself\u001b[39m\u001b[39m.\u001b[39maction_space\u001b[39m.\u001b[39msample())\n\u001b[1;32m    254\u001b[0m \u001b[39melse\u001b[39;00m:\n\u001b[0;32m--> 255\u001b[0m     action, state \u001b[39m=\u001b[39m \u001b[39mself\u001b[39;49m\u001b[39m.\u001b[39;49mpolicy\u001b[39m.\u001b[39;49mpredict(observation, state, episode_start, deterministic)\n\u001b[1;32m    256\u001b[0m \u001b[39mreturn\u001b[39;00m action, state\n",
      "File \u001b[0;32m~/Documents/University/Master/Module6/MachineLearning2/Project/General-Drone-Simulator/.venv/lib/python3.10/site-packages/stable_baselines3/common/policies.py:363\u001b[0m, in \u001b[0;36mBasePolicy.predict\u001b[0;34m(self, observation, state, episode_start, deterministic)\u001b[0m\n\u001b[1;32m    354\u001b[0m \u001b[39mif\u001b[39;00m \u001b[39misinstance\u001b[39m(observation, \u001b[39mtuple\u001b[39m) \u001b[39mand\u001b[39;00m \u001b[39mlen\u001b[39m(observation) \u001b[39m==\u001b[39m \u001b[39m2\u001b[39m \u001b[39mand\u001b[39;00m \u001b[39misinstance\u001b[39m(observation[\u001b[39m1\u001b[39m], \u001b[39mdict\u001b[39m):\n\u001b[1;32m    355\u001b[0m     \u001b[39mraise\u001b[39;00m \u001b[39mValueError\u001b[39;00m(\n\u001b[1;32m    356\u001b[0m         \u001b[39m\"\u001b[39m\u001b[39mYou have passed a tuple to the predict() function instead of a Numpy array or a Dict. \u001b[39m\u001b[39m\"\u001b[39m\n\u001b[1;32m    357\u001b[0m         \u001b[39m\"\u001b[39m\u001b[39mYou are probably mixing Gym API with SB3 VecEnv API: `obs, info = env.reset()` (Gym) \u001b[39m\u001b[39m\"\u001b[39m\n\u001b[0;32m   (...)\u001b[0m\n\u001b[1;32m    360\u001b[0m         \u001b[39m\"\u001b[39m\u001b[39mand documentation for more information: https://stable-baselines3.readthedocs.io/en/master/guide/vec_envs.html#vecenv-api-vs-gym-api\u001b[39m\u001b[39m\"\u001b[39m\n\u001b[1;32m    361\u001b[0m     )\n\u001b[0;32m--> 363\u001b[0m obs_tensor, vectorized_env \u001b[39m=\u001b[39m \u001b[39mself\u001b[39;49m\u001b[39m.\u001b[39;49mobs_to_tensor(observation)\n\u001b[1;32m    365\u001b[0m \u001b[39mwith\u001b[39;00m th\u001b[39m.\u001b[39mno_grad():\n\u001b[1;32m    366\u001b[0m     actions \u001b[39m=\u001b[39m \u001b[39mself\u001b[39m\u001b[39m.\u001b[39m_predict(obs_tensor, deterministic\u001b[39m=\u001b[39mdeterministic)\n",
      "File \u001b[0;32m~/Documents/University/Master/Module6/MachineLearning2/Project/General-Drone-Simulator/.venv/lib/python3.10/site-packages/stable_baselines3/common/policies.py:274\u001b[0m, in \u001b[0;36mBaseModel.obs_to_tensor\u001b[0;34m(self, observation)\u001b[0m\n\u001b[1;32m    271\u001b[0m     \u001b[39m# Add batch dimension if needed\u001b[39;00m\n\u001b[1;32m    272\u001b[0m     observation \u001b[39m=\u001b[39m observation\u001b[39m.\u001b[39mreshape((\u001b[39m-\u001b[39m\u001b[39m1\u001b[39m, \u001b[39m*\u001b[39m\u001b[39mself\u001b[39m\u001b[39m.\u001b[39mobservation_space\u001b[39m.\u001b[39mshape))  \u001b[39m# type: ignore[misc]\u001b[39;00m\n\u001b[0;32m--> 274\u001b[0m obs_tensor \u001b[39m=\u001b[39m obs_as_tensor(observation, \u001b[39mself\u001b[39;49m\u001b[39m.\u001b[39;49mdevice)\n\u001b[1;32m    275\u001b[0m \u001b[39mreturn\u001b[39;00m obs_tensor, vectorized_env\n",
      "File \u001b[0;32m~/Documents/University/Master/Module6/MachineLearning2/Project/General-Drone-Simulator/.venv/lib/python3.10/site-packages/stable_baselines3/common/utils.py:483\u001b[0m, in \u001b[0;36mobs_as_tensor\u001b[0;34m(obs, device)\u001b[0m\n\u001b[1;32m    475\u001b[0m \u001b[39m\u001b[39m\u001b[39m\"\"\"\u001b[39;00m\n\u001b[1;32m    476\u001b[0m \u001b[39mMoves the observation to the given device.\u001b[39;00m\n\u001b[1;32m    477\u001b[0m \n\u001b[0;32m   (...)\u001b[0m\n\u001b[1;32m    480\u001b[0m \u001b[39m:return: PyTorch tensor of the observation on a desired device.\u001b[39;00m\n\u001b[1;32m    481\u001b[0m \u001b[39m\"\"\"\u001b[39;00m\n\u001b[1;32m    482\u001b[0m \u001b[39mif\u001b[39;00m \u001b[39misinstance\u001b[39m(obs, np\u001b[39m.\u001b[39mndarray):\n\u001b[0;32m--> 483\u001b[0m     \u001b[39mreturn\u001b[39;00m th\u001b[39m.\u001b[39;49mas_tensor(obs, device\u001b[39m=\u001b[39;49mdevice)\n\u001b[1;32m    484\u001b[0m \u001b[39melif\u001b[39;00m \u001b[39misinstance\u001b[39m(obs, \u001b[39mdict\u001b[39m):\n\u001b[1;32m    485\u001b[0m     \u001b[39mreturn\u001b[39;00m {key: th\u001b[39m.\u001b[39mas_tensor(_obs, device\u001b[39m=\u001b[39mdevice) \u001b[39mfor\u001b[39;00m (key, _obs) \u001b[39min\u001b[39;00m obs\u001b[39m.\u001b[39mitems()}\n",
      "\u001b[0;31mKeyboardInterrupt\u001b[0m: "
     ]
    }
   ],
   "source": [
    "evaluate_policy(model, env, n_eval_episodes=10, render=True)\n"
   ]
  },
  {
   "cell_type": "code",
   "execution_count": 8,
   "metadata": {},
   "outputs": [
    {
     "ename": "KeyboardInterrupt",
     "evalue": "",
     "output_type": "error",
     "traceback": [
      "\u001b[0;31m---------------------------------------------------------------------------\u001b[0m",
      "\u001b[0;31mKeyboardInterrupt\u001b[0m                         Traceback (most recent call last)",
      "\u001b[1;32m/home/tjbakker/Documents/University/Master/Module6/MachineLearning2/Project/General-Drone-Simulator/main.ipynb Cell 8\u001b[0m line \u001b[0;36m9\n\u001b[1;32m      <a href='vscode-notebook-cell:/home/tjbakker/Documents/University/Master/Module6/MachineLearning2/Project/General-Drone-Simulator/main.ipynb#X10sZmlsZQ%3D%3D?line=5'>6</a>\u001b[0m score \u001b[39m=\u001b[39m \u001b[39m0\u001b[39m \n\u001b[1;32m      <a href='vscode-notebook-cell:/home/tjbakker/Documents/University/Master/Module6/MachineLearning2/Project/General-Drone-Simulator/main.ipynb#X10sZmlsZQ%3D%3D?line=7'>8</a>\u001b[0m \u001b[39mwhile\u001b[39;00m \u001b[39mnot\u001b[39;00m done:\n\u001b[0;32m----> <a href='vscode-notebook-cell:/home/tjbakker/Documents/University/Master/Module6/MachineLearning2/Project/General-Drone-Simulator/main.ipynb#X10sZmlsZQ%3D%3D?line=8'>9</a>\u001b[0m     env\u001b[39m.\u001b[39;49mrender()\n\u001b[1;32m     <a href='vscode-notebook-cell:/home/tjbakker/Documents/University/Master/Module6/MachineLearning2/Project/General-Drone-Simulator/main.ipynb#X10sZmlsZQ%3D%3D?line=9'>10</a>\u001b[0m     action, _ \u001b[39m=\u001b[39m model\u001b[39m.\u001b[39mpredict(obs)\n\u001b[1;32m     <a href='vscode-notebook-cell:/home/tjbakker/Documents/University/Master/Module6/MachineLearning2/Project/General-Drone-Simulator/main.ipynb#X10sZmlsZQ%3D%3D?line=10'>11</a>\u001b[0m     obs, reward, done, _, info \u001b[39m=\u001b[39m env\u001b[39m.\u001b[39mstep(action) \u001b[39m# Get new set of observations\u001b[39;00m\n",
      "File \u001b[0;32m~/Documents/University/Master/Module6/MachineLearning2/Project/General-Drone-Simulator/src/drone_env.py:101\u001b[0m, in \u001b[0;36mDroneEnv.render\u001b[0;34m(self)\u001b[0m\n\u001b[1;32m     99\u001b[0m     \u001b[39mreturn\u001b[39;00m\n\u001b[1;32m    100\u001b[0m \u001b[39melif\u001b[39;00m mode \u001b[39m==\u001b[39m \u001b[39m\"\u001b[39m\u001b[39mhuman\u001b[39m\u001b[39m\"\u001b[39m:\n\u001b[0;32m--> 101\u001b[0m     \u001b[39mself\u001b[39;49m\u001b[39m.\u001b[39;49mdisplay\u001b[39m.\u001b[39;49mupdate(\u001b[39mself\u001b[39;49m)\n",
      "File \u001b[0;32m~/Documents/University/Master/Module6/MachineLearning2/Project/General-Drone-Simulator/src/display.py:128\u001b[0m, in \u001b[0;36mDisplay.update\u001b[0;34m(self, drone)\u001b[0m\n\u001b[1;32m    127\u001b[0m \u001b[39mdef\u001b[39;00m \u001b[39mupdate\u001b[39m(\u001b[39mself\u001b[39m, drone):\n\u001b[0;32m--> 128\u001b[0m     \u001b[39mself\u001b[39;49m\u001b[39m.\u001b[39;49mclock\u001b[39m.\u001b[39;49mtick(\u001b[39m60\u001b[39;49m)\n\u001b[1;32m    129\u001b[0m     \u001b[39mself\u001b[39m\u001b[39m.\u001b[39mscreen\u001b[39m.\u001b[39mfill(BLACK)\n\u001b[1;32m    130\u001b[0m     \u001b[39mself\u001b[39m\u001b[39m.\u001b[39m_draw_drone(drone)\n",
      "\u001b[0;31mKeyboardInterrupt\u001b[0m: "
     ]
    }
   ],
   "source": [
    "env = DroneEnv(config, render_mode=\"human\")\n",
    "episodes = 5\n",
    "for episode in range(1, episodes+1):\n",
    "    obs, _ = env.reset()\n",
    "    done = False\n",
    "    score = 0 \n",
    "    \n",
    "    while not done:\n",
    "        env.render()\n",
    "        action, _ = model.predict(obs)\n",
    "        obs, reward, done, _, info = env.step(action) # Get new set of observations\n",
    "        score+=reward\n",
    "    print('Episode:{} Score:{}'.format(episode, round(score,2)))\n",
    "env.close()"
   ]
  }
 ],
 "metadata": {
  "kernelspec": {
   "display_name": ".venv",
   "language": "python",
   "name": "python3"
  },
  "language_info": {
   "codemirror_mode": {
    "name": "ipython",
    "version": 3
   },
   "file_extension": ".py",
   "mimetype": "text/x-python",
   "name": "python",
   "nbconvert_exporter": "python",
   "pygments_lexer": "ipython3",
   "version": "3.10.11"
  }
 },
 "nbformat": 4,
 "nbformat_minor": 2
}
