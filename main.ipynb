{
 "cells": [
  {
   "cell_type": "code",
   "execution_count": 1,
   "metadata": {},
   "outputs": [
    {
     "name": "stdout",
     "output_type": "stream",
     "text": [
      "Logging to logs/\n"
     ]
    }
   ],
   "source": [
    "import os\n",
    "\n",
    "import numpy as np\n",
    "from stable_baselines3 import PPO, DQN\n",
    "from stable_baselines3.common.vec_env import DummyVecEnv\n",
    "from stable_baselines3.common.evaluation import evaluate_policy\n",
    "from stable_baselines3.common.logger import configure\n",
    "from stable_baselines3.common.env_checker import check_env\n",
    "from stable_baselines3.common.callbacks import BaseCallback, EvalCallback, StopTrainingOnRewardThreshold\n",
    "\n",
    "\n",
    "from src.drone_env import DroneEnv\n",
    "from src.utils import read_config\n",
    "from src.monitor import Monitor\n",
    "from src.logger_callback import LoggerCallback\n",
    "\n",
    "# Create log directory\n",
    "log_dir = \"logs/\"\n",
    "os.makedirs(log_dir, exist_ok=True)\n",
    "\n",
    "# Configure logger to use TensorBoard\n",
    "logger = configure(log_dir, [\"stdout\", \"tensorboard\"])\n",
    "\n",
    "config = read_config(\"config.yaml\")\n",
    "\n",
    "save_path = os.path.join('training', 'saved_models')\n",
    "log_path = os.path.join('training', 'logs')\n",
    "\n",
    "def print_state(state):\n",
    "    # Print 4 decimals, and a space if the number is positive for alignment\n",
    "    print(\"State: \", [f\"{x:.4f}\" if x < 0 else f\"{x:.4f} \" for x in state])"
   ]
  },
  {
   "cell_type": "code",
   "execution_count": null,
   "metadata": {},
   "outputs": [],
   "source": [
    "env = DroneEnv(config, render_mode=\"human\", max_episode_steps=1000)\n",
    "episodes = 5\n",
    "for episode in range(1, episodes+1):\n",
    "    state = env.reset() # Get initial set of observations\n",
    "    done = False\n",
    "    score = 0 \n",
    "    \n",
    "    while not done:\n",
    "        env.render()\n",
    "        action = env.action_space.sample() # Take a random action from the action space\n",
    "        n_state, reward, done, info =  env.step(action) # Get new set of observations\n",
    "        score+=reward\n",
    "    print('Episode:{} Score:{}'.format(episode, round(score,2)))\n",
    "env.close()"
   ]
  },
  {
   "cell_type": "code",
   "execution_count": null,
   "metadata": {},
   "outputs": [],
   "source": [
    "env.close()"
   ]
  },
  {
   "cell_type": "code",
   "execution_count": null,
   "metadata": {},
   "outputs": [],
   "source": [
    "num_envs = 16  # Number of parallel environments\n",
    "env_fns = [lambda: DroneEnv(config) for _ in range(num_envs)]\n",
    "env = DummyVecEnv(env_fns)\n",
    "\n",
    "check_env(env.envs[0], warn=True)  # Checking only the first instance for compatibility\n",
    "\n",
    "stop_callback = StopTrainingOnRewardThreshold(reward_threshold=1000, verbose=1)\n",
    "eval_callback = EvalCallback(env, \n",
    "                             callback_on_new_best=stop_callback, \n",
    "                             eval_freq=10000, \n",
    "                             best_model_save_path=save_path, \n",
    "                             verbose=1)\n",
    "\n",
    "monitor = Monitor(config)\n",
    "monitor.update_plot()\n",
    "logger = LoggerCallback(monitor=monitor)\n",
    "\n",
    "callbacks = [eval_callback, logger]\n",
    "\n",
    "model = DQN('MlpPolicy', env, tensorboard_log=log_dir)"
   ]
  },
  {
   "cell_type": "code",
   "execution_count": null,
   "metadata": {},
   "outputs": [],
   "source": [
    "num_envs = 16  # Number of parallel environments\n",
    "env_fns = [lambda: DroneEnv(config) for _ in range(num_envs)]\n",
    "env = DummyVecEnv(env_fns)\n",
    "\n",
    "check_env(env.envs[0], warn=True)  # Checking only the first instance for compatibility\n",
    "\n",
    "stop_callback = StopTrainingOnRewardThreshold(reward_threshold=1000, verbose=1)\n",
    "eval_callback = EvalCallback(env, \n",
    "                             callback_on_new_best=stop_callback, \n",
    "                             eval_freq=10000, \n",
    "                             best_model_save_path=save_path, \n",
    "                             verbose=1)\n",
    "\n",
    "monitor = Monitor(config)\n",
    "monitor.update_plot()\n",
    "logger = LoggerCallback(monitor=monitor)\n",
    "\n",
    "callbacks = [eval_callback, logger]\n",
    "\n",
    "model = DQN('MlpPolicy', env, tensorboard_log=log_dir)\n",
    "model.learn(total_timesteps=1000000, progress_bar=True, callback=callbacks)"
   ]
  },
  {
   "cell_type": "code",
   "execution_count": null,
   "metadata": {},
   "outputs": [],
   "source": [
    "model.save(os.path.join('Training', 'Saved Models', 'DQN_model_1M'))"
   ]
  },
  {
   "cell_type": "code",
   "execution_count": null,
   "metadata": {},
   "outputs": [],
   "source": [
    "env = DroneEnv(config, render_mode=\"human\", max_episode_steps=1000)\n",
    "# model = DQN.load(os.path.join('training', 'saved_models', 'DQN_model_1M'), env=env)\n",
    "model = PPO.load(os.path.join('training', 'saved_models', 'PPO_model_0.5m'), env=env)\n"
   ]
  },
  {
   "cell_type": "code",
   "execution_count": null,
   "metadata": {},
   "outputs": [],
   "source": [
    "evaluate_policy(model, env, n_eval_episodes=5, render=True)\n",
    "env.close()"
   ]
  },
  {
   "cell_type": "code",
   "execution_count": 2,
   "metadata": {},
   "outputs": [
    {
     "name": "stdout",
     "output_type": "stream",
     "text": [
      "Episode:1 Score:208.62\n",
      "Episode:2 Score:120.81\n",
      "Episode:3 Score:43.38\n",
      "Episode:4 Score:105.27\n",
      "Episode:5 Score:45.97\n"
     ]
    }
   ],
   "source": [
    "env = DroneEnv(config, render_mode=\"human\", max_episode_steps=1000)\n",
    "model = PPO.load(os.path.join('training', 'saved_models', 'PPO_model_0.5m'), env=env)\n",
    "episodes = 5\n",
    "for episode in range(1, episodes+1):\n",
    "    obs, _ = env.reset()\n",
    "    done = False\n",
    "    score = 0 \n",
    "    \n",
    "    while not done:\n",
    "        env.render()\n",
    "        action, _ = model.predict(obs)\n",
    "        obs, reward, done, _, info = env.step(action) # Get new set of observations\n",
    "        score+=reward\n",
    "    print('Episode:{} Score:{}'.format(episode, round(score,2)))\n",
    "env.close()"
   ]
  }
 ],
 "metadata": {
  "kernelspec": {
   "display_name": ".venv",
   "language": "python",
   "name": "python3"
  },
  "language_info": {
   "codemirror_mode": {
    "name": "ipython",
    "version": 3
   },
   "file_extension": ".py",
   "mimetype": "text/x-python",
   "name": "python",
   "nbconvert_exporter": "python",
   "pygments_lexer": "ipython3",
   "version": "3.10.11"
  }
 },
 "nbformat": 4,
 "nbformat_minor": 2
}
